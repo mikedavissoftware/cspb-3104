{
 "cells": [
  {
   "cell_type": "markdown",
   "metadata": {},
   "source": [
    "# CSPB-3104 Programming Assignment 1\n",
    "\n",
    "\n",
    "Fill out the following functions:\n",
    "\n",
    "First, write a function 'swap(a, i, j)' which takes an array __a__, and swaps __a__[i] with __a__[j] in place.  It doesn't return anything, since the array __a__ is modified directly.\n",
    "\n",
    "Next, fill in insert_into(a, j), which given a sorted array __a__ and a number j, will append j to __a__, then fix the sorting of __a__ using only the function swap.  insert_into should return the number of times it called swap.\n",
    "\n",
    "__You are not allowed to use inbuilt routines in python such as sortd or the list insert method.__"
   ]
  },
  {
   "cell_type": "code",
   "execution_count": 22,
   "metadata": {},
   "outputs": [],
   "source": [
    "#swap(a, i, j) swaps a[i] and a[j] in place.\n",
    "\n",
    "def swap(a, i, j):\n",
    "  # Your code here\n",
    "  temp = a[i]\n",
    "  \n",
    "  a[i] = a[j]\n",
    "  a[j] = temp\n",
    "  \n",
    "  # return a"
   ]
  },
  {
   "cell_type": "code",
   "execution_count": null,
   "metadata": {},
   "outputs": [
    {
     "name": "stdout",
     "output_type": "stream",
     "text": [
      "0\n"
     ]
    }
   ],
   "source": [
    "#insert(a, j) inserts j into the correct location in a sorted list\n",
    "#using only list.append() and swap defined above.  insert returns the number of times swap is called.\n",
    "\n",
    "def insert_into(a, j):\n",
    "    # Your code here\n",
    "    a.append(j)\n",
    "    count = 0\n",
    "    \n",
    "    if len(a) == 1:\n",
    "        return count\n",
    "    \n",
    "    p1 = len(a) - 2\n",
    "    p2 = len(a) - 1\n",
    "    \n",
    "    while p1 >=0 and a[p1] > j:\n",
    "        swap(a, p1, p2)\n",
    "        count += 1\n",
    "        p1 -= 1\n",
    "        p2 -= 1\n",
    "        \n",
    "    return count\n",
    "\n",
    "print(insert_into([0,0,0,0,0,0], 0))\n",
    "        \n",
    "    \n",
    "    \n"
   ]
  },
  {
   "cell_type": "markdown",
   "metadata": {},
   "source": [
    "Testing below\n",
    "\n",
    "----"
   ]
  },
  {
   "cell_type": "code",
   "execution_count": 24,
   "metadata": {},
   "outputs": [
    {
     "name": "stderr",
     "output_type": "stream",
     "text": [
      "/tmp/ipykernel_344561/4279468936.py:3: DeprecationWarning: Importing display from IPython.core.display is deprecated since IPython 7.14, please import from IPython display\n",
      "  from IPython.core.display import display, HTML\n"
     ]
    },
    {
     "data": {
      "text/html": [
       "<font color=\"green\"> All tests succeeded! </font>"
      ],
      "text/plain": [
       "<IPython.core.display.HTML object>"
      ]
     },
     "metadata": {},
     "output_type": "display_data"
    }
   ],
   "source": [
    "## DO NOT EDIT TESTING CODE FOR YOUR ANSWER ABOVE\n",
    "# Press shift enter to test your code. Ensure that your code has been saved first by pressing shift+enter on the previous cell.\n",
    "from IPython.core.display import display, HTML\n",
    "def test_insert():\n",
    "    failed = False\n",
    "    test_cases = [ # (Input Array, Inserted Number, Expected Output)\n",
    "             ([1,3,6,8,10], 4 , [1,3,4,6,8,10], 3),\n",
    "             ([1,1,1,1,3,3,5,5,7,7], 1, [1,1,1,1,1,3,3,5,5,7,7], 6),\n",
    "             ([-10,9,15,18,35,44], 47, [-10, 9, 15, 18, 35, 44, 47], 0),\n",
    "             ([], 10, [10], 0),\n",
    "             ([-10, 9, 10, 20, 35], -20, [-20, -10, 9, 10, 20, 35], 5),\n",
    "             ([0,0,0,0,0,0], 0, [0,0,0,0,0,0,0], 0)]\n",
    "    for (test_array, j, expected_output, num_of_swaps) in test_cases:\n",
    "        original = test_array.copy()\n",
    "        swap_count = insert_into(test_array, j)\n",
    "        if (test_array != expected_output or swap_count != num_of_swaps):\n",
    "            s1 = '<font color=\\\"red\\\"> Failed - test case: Inputs: a=' + str(original)+ ' j=' + str(j) + \"<br>\"\n",
    "            s2 = '  <b> Expected Output: </b> ' + str(expected_output) + ' Your code output: ' + str(test_array)+ \"<br>\"\n",
    "            s3 = ' <b> Expected Number of Swaps: </b> ' + str(num_of_swaps) + ' Your code output: ' + str(swap_count) + '</font>'\n",
    "            display(HTML(s1+s2 + s3))\n",
    "            failed = True\n",
    "            \n",
    "    if failed:\n",
    "        display(HTML('<font color=\"red\"> One or more tests failed. </font>'))\n",
    "    else:\n",
    "        display(HTML('<font color=\"green\"> All tests succeeded! </font>'))\n",
    "test_insert()"
   ]
  },
  {
   "cell_type": "code",
   "execution_count": null,
   "metadata": {},
   "outputs": [],
   "source": []
  },
  {
   "cell_type": "code",
   "execution_count": null,
   "metadata": {},
   "outputs": [],
   "source": []
  }
 ],
 "metadata": {
  "kernelspec": {
   "display_name": "3.8.13",
   "language": "python",
   "name": "python3"
  },
  "language_info": {
   "codemirror_mode": {
    "name": "ipython",
    "version": 3
   },
   "file_extension": ".py",
   "mimetype": "text/x-python",
   "name": "python",
   "nbconvert_exporter": "python",
   "pygments_lexer": "ipython3",
   "version": "3.8.13"
  }
 },
 "nbformat": 4,
 "nbformat_minor": 2
}
