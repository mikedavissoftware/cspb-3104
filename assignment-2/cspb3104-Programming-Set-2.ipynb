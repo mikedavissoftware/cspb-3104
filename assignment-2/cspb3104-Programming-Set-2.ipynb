{
 "cells": [
  {
   "cell_type": "markdown",
   "metadata": {},
   "source": [
    "# CSPB-3104 Programming Assignment 2\n",
    "\n"
   ]
  },
  {
   "cell_type": "markdown",
   "metadata": {},
   "source": [
    "1) (15 points) Implement mergesort\n",
    "\n",
    "Your function must sort the array in place, and return the number of direct comparisons (is a[i]  < a[j]?) made."
   ]
  },
  {
   "cell_type": "code",
   "execution_count": 19,
   "metadata": {},
   "outputs": [],
   "source": [
    "#\n",
    "from random import sample\n",
    "\n",
    "def mergesort(a):\n",
    "  comparisons = 0\n",
    "    \n",
    "  if (len(a) <= 1):\n",
    "    return comparisons\n",
    "  \n",
    "  split = len(a) // 2\n",
    "  \n",
    "  lower = a[:split]\n",
    "  upper = a[split:]\n",
    "  \n",
    "  comparisons += mergesort(lower)\n",
    "  comparisons += mergesort(upper)\n",
    "  \n",
    "  i = 0\n",
    "  j = 0\n",
    "  x = 0\n",
    "  \n",
    "  while i < len(lower) and j < len(upper):\n",
    "    comparisons += 1\n",
    "    if lower[i] <= upper[j]:\n",
    "      a[x] = lower[i]\n",
    "      i += 1\n",
    "    else:\n",
    "      a[x] = upper[j]\n",
    "      j += 1\n",
    "    x += 1\n",
    "  \n",
    "  while i < len(lower):\n",
    "    a[x] = lower[i]\n",
    "    i += 1\n",
    "    x += 1\n",
    "    \n",
    "  while j < len(upper):\n",
    "    a[x] = upper[j]\n",
    "    j += 1\n",
    "    x += 1\n",
    "  \n",
    "  return comparisons\n",
    "  \n",
    "  raise NotImplementedError "
   ]
  },
  {
   "cell_type": "markdown",
   "metadata": {},
   "source": [
    "2a. (5 points)  Finding a fixed point\n",
    "\n",
    "A fixed point of an array $A$, if it exists, is an index $i$ such that $A[i] = i$.\n",
    "Given a _sorted_ array $A$ of _distinct_ __integers__, return the index of the fixed point if one exists, or otherwise, return `-1` to signal that no fixed point exists. Your algorithm must run in $\\Theta(\\log(n))$ time."
   ]
  },
  {
   "cell_type": "code",
   "execution_count": 20,
   "metadata": {},
   "outputs": [],
   "source": [
    "\n",
    "def find_fixed_point(a):\n",
    "    for i in range(0, len(a)):\n",
    "        if a[i] == i:\n",
    "            return i\n",
    "    \n",
    "    return -1\n",
    "    raise NotImplementedError\n"
   ]
  },
  {
   "cell_type": "markdown",
   "metadata": {},
   "source": [
    "2b. (5 points) Finding fixed points again\n",
    "\n",
    "Given a _sorted_ array $A$ of _distinct_ __natural numbers__, return the index of the fixed point if one exists, or otherwise, return `-1` to signal that no fixed point exists. Your algorithm must be as efficient as possible."
   ]
  },
  {
   "cell_type": "code",
   "execution_count": null,
   "metadata": {},
   "outputs": [],
   "source": [
    "def find_fixed_point_natural(a):\n",
    "    # I apologize I was not able to get to this one!\n",
    "    raise NotImplementedError()"
   ]
  },
  {
   "cell_type": "markdown",
   "metadata": {},
   "source": [
    "Testing below\n",
    "\n",
    "----"
   ]
  },
  {
   "cell_type": "code",
   "execution_count": 22,
   "metadata": {},
   "outputs": [
    {
     "name": "stderr",
     "output_type": "stream",
     "text": [
      "/tmp/ipykernel_2275538/4232231892.py:3: DeprecationWarning: Importing display from IPython.core.display is deprecated since IPython 7.14, please import from IPython display\n",
      "  from IPython.core.display import display, HTML\n"
     ]
    },
    {
     "data": {
      "text/html": [
       "<font color=\"green\"> All tests succeeded! </font>"
      ],
      "text/plain": [
       "<IPython.core.display.HTML object>"
      ]
     },
     "metadata": {},
     "output_type": "display_data"
    }
   ],
   "source": [
    "## DO NOT EDIT TESTING CODE FOR YOUR ANSWER ABOVE\n",
    "# Press shift enter to test your code. Ensure that your code has been saved first by pressing shift+enter on the previous cell.\n",
    "from IPython.core.display import display, HTML\n",
    "def mergesort_test():\n",
    "    failed = False\n",
    "    test_cases = [ \n",
    "        [9, 8, 7, 6, 5, 4, 3, 2, 1, 0],\n",
    "        [0, 1, 2, 3, 4, 5, 6, 7, 8, 9],\n",
    "        [0, 0, 0, 0, 0, 0, -1],\n",
    "        [10, -10, 9, -9, 8, -8, 7, -7]\n",
    "    ]\n",
    "    for test_array in test_cases:\n",
    "        original = test_array.copy()\n",
    "        expected_output = sorted(test_array)\n",
    "        compare_count = mergesort(test_array)\n",
    "        if (test_array != expected_output):\n",
    "            s1 = '<font color=\\\"red\\\"> Failed - test case: Inputs: a=' + str(original) + \"<br>\"\n",
    "            s2 = '  <b> Expected Output: </b> ' + str(expected_output) + ' Your code output: ' + str(test_array)+ \"<br>\"\n",
    "            display(HTML(s1+s2))\n",
    "            failed = True\n",
    "            \n",
    "    if failed:\n",
    "        display(HTML('<font color=\"red\"> One or more tests failed. </font>'))\n",
    "    else:\n",
    "        display(HTML('<font color=\"green\"> All tests succeeded! </font>'))\n",
    "mergesort_test()"
   ]
  },
  {
   "cell_type": "code",
   "execution_count": 23,
   "metadata": {},
   "outputs": [],
   "source": [
    "def find_fixed_point_very_naive(a):\n",
    "    n = len(a)\n",
    "    for i in range(0, n):\n",
    "        if a[i] == i:\n",
    "            return i\n",
    "    return -1"
   ]
  },
  {
   "cell_type": "code",
   "execution_count": 24,
   "metadata": {},
   "outputs": [
    {
     "name": "stdout",
     "output_type": "stream",
     "text": [
      " num tests  =  10000\n",
      " num passed =  10000\n"
     ]
    }
   ],
   "source": [
    "def test_find_fixed_point_code(n_tests, test_size):\n",
    "    n_passed = 0\n",
    "    for i in range(0, n_tests):\n",
    "        a = sorted( sample( range(-10 * n_tests,  10 * n_tests ), test_size))\n",
    "        j = find_fixed_point(a)\n",
    "        if j >= 0 and a[j] != j:\n",
    "            print(' Code failed for input: ', a, 'returned : ', j, 'expected:', find_fixed_point_very_naive(a))\n",
    "        elif j < 0: \n",
    "            assert j == -1, 'Your code returns an illegal negative number: have you implemented it yet?'\n",
    "            k = find_fixed_point_very_naive(a)\n",
    "            if k >= 0:\n",
    "                print('Code failed for input', a)\n",
    "                print('Your code failed to find a fixed point')\n",
    "                print('However, for j = ', k, 'a[j] =', a[k])\n",
    "            else: \n",
    "                n_passed = n_passed + 1\n",
    "        else: \n",
    "            n_passed = n_passed + 1\n",
    "    return n_passed\n",
    "\n",
    "n_tests = 10000\n",
    "n_passed = test_find_fixed_point_code(10000, 10)\n",
    "print(' num tests  = ', n_tests)\n",
    "print(' num passed = ', n_passed)"
   ]
  },
  {
   "cell_type": "code",
   "execution_count": 25,
   "metadata": {},
   "outputs": [
    {
     "ename": "NotImplementedError",
     "evalue": "",
     "output_type": "error",
     "traceback": [
      "\u001b[0;31m---------------------------------------------------------------------------\u001b[0m",
      "\u001b[0;31mNotImplementedError\u001b[0m                       Traceback (most recent call last)",
      "Cell \u001b[0;32mIn[25], line 22\u001b[0m\n\u001b[1;32m     19\u001b[0m     \u001b[38;5;28;01mreturn\u001b[39;00m n_passed\n\u001b[1;32m     21\u001b[0m n_tests \u001b[38;5;241m=\u001b[39m \u001b[38;5;241m10000\u001b[39m\n\u001b[0;32m---> 22\u001b[0m n_passed \u001b[38;5;241m=\u001b[39m \u001b[43mtest_find_fixed_point_natural_code\u001b[49m\u001b[43m(\u001b[49m\u001b[38;5;241;43m10000\u001b[39;49m\u001b[43m,\u001b[49m\u001b[43m \u001b[49m\u001b[38;5;241;43m10\u001b[39;49m\u001b[43m)\u001b[49m\n\u001b[1;32m     23\u001b[0m \u001b[38;5;28mprint\u001b[39m(\u001b[38;5;124m'\u001b[39m\u001b[38;5;124m num tests  = \u001b[39m\u001b[38;5;124m'\u001b[39m, n_tests)\n\u001b[1;32m     24\u001b[0m \u001b[38;5;28mprint\u001b[39m(\u001b[38;5;124m'\u001b[39m\u001b[38;5;124m num passed = \u001b[39m\u001b[38;5;124m'\u001b[39m, n_passed)\n",
      "Cell \u001b[0;32mIn[25], line 5\u001b[0m, in \u001b[0;36mtest_find_fixed_point_natural_code\u001b[0;34m(n_tests, test_size)\u001b[0m\n\u001b[1;32m      3\u001b[0m \u001b[38;5;28;01mfor\u001b[39;00m i \u001b[38;5;129;01min\u001b[39;00m \u001b[38;5;28mrange\u001b[39m(\u001b[38;5;241m0\u001b[39m, n_tests):\n\u001b[1;32m      4\u001b[0m     a \u001b[38;5;241m=\u001b[39m \u001b[38;5;28msorted\u001b[39m( sample( \u001b[38;5;28mrange\u001b[39m(\u001b[38;5;241m0\u001b[39m,  \u001b[38;5;241m10\u001b[39m \u001b[38;5;241m*\u001b[39m n_tests ), test_size))\n\u001b[0;32m----> 5\u001b[0m     j \u001b[38;5;241m=\u001b[39m \u001b[43mfind_fixed_point_natural\u001b[49m\u001b[43m(\u001b[49m\u001b[43ma\u001b[49m\u001b[43m)\u001b[49m\n\u001b[1;32m      6\u001b[0m     \u001b[38;5;28;01mif\u001b[39;00m j \u001b[38;5;241m>\u001b[39m\u001b[38;5;241m=\u001b[39m \u001b[38;5;241m0\u001b[39m \u001b[38;5;129;01mand\u001b[39;00m a[j] \u001b[38;5;241m!=\u001b[39m j:\n\u001b[1;32m      7\u001b[0m         \u001b[38;5;28mprint\u001b[39m(\u001b[38;5;124m'\u001b[39m\u001b[38;5;124m Code failed for input: \u001b[39m\u001b[38;5;124m'\u001b[39m, a, \u001b[38;5;124m'\u001b[39m\u001b[38;5;124mreturned : \u001b[39m\u001b[38;5;124m'\u001b[39m, j, \u001b[38;5;124m'\u001b[39m\u001b[38;5;124mexpected:\u001b[39m\u001b[38;5;124m'\u001b[39m, find_fixed_point_very_naive(a))\n",
      "Cell \u001b[0;32mIn[21], line 3\u001b[0m, in \u001b[0;36mfind_fixed_point_natural\u001b[0;34m(a)\u001b[0m\n\u001b[1;32m      1\u001b[0m \u001b[38;5;28;01mdef\u001b[39;00m\u001b[38;5;250m \u001b[39m\u001b[38;5;21mfind_fixed_point_natural\u001b[39m(a):\n\u001b[1;32m      2\u001b[0m     \u001b[38;5;66;03m# YOUR CODE HERE\u001b[39;00m\n\u001b[0;32m----> 3\u001b[0m     \u001b[38;5;28;01mraise\u001b[39;00m \u001b[38;5;167;01mNotImplementedError\u001b[39;00m()\n",
      "\u001b[0;31mNotImplementedError\u001b[0m: "
     ]
    }
   ],
   "source": [
    "def test_find_fixed_point_natural_code(n_tests, test_size):\n",
    "    n_passed = 0\n",
    "    for i in range(0, n_tests):\n",
    "        a = sorted( sample( range(0,  10 * n_tests ), test_size))\n",
    "        j = find_fixed_point_natural(a)\n",
    "        if j >= 0 and a[j] != j:\n",
    "            print(' Code failed for input: ', a, 'returned : ', j, 'expected:', find_fixed_point_very_naive(a))\n",
    "        elif j < 0: \n",
    "            assert j == -1, 'Your code returns an illegal negative number: have you implemented it yet?'\n",
    "            k = find_fixed_point_very_naive(a)\n",
    "            if k >= 0:\n",
    "                print('Code failed for input', a)\n",
    "                print('Your code failed to find a fixed point')\n",
    "                print('However, for j = ', k, 'a[j] =', a[k])\n",
    "            else: \n",
    "                n_passed = n_passed + 1\n",
    "        else: \n",
    "            n_passed = n_passed + 1\n",
    "    return n_passed\n",
    "\n",
    "n_tests = 10000\n",
    "n_passed = test_find_fixed_point_natural_code(10000, 10)\n",
    "print(' num tests  = ', n_tests)\n",
    "print(' num passed = ', n_passed)"
   ]
  }
 ],
 "metadata": {
  "kernelspec": {
   "display_name": "3.8.13",
   "language": "python",
   "name": "python3"
  },
  "language_info": {
   "codemirror_mode": {
    "name": "ipython",
    "version": 3
   },
   "file_extension": ".py",
   "mimetype": "text/x-python",
   "name": "python",
   "nbconvert_exporter": "python",
   "pygments_lexer": "ipython3",
   "version": "3.8.13"
  }
 },
 "nbformat": 4,
 "nbformat_minor": 2
}
